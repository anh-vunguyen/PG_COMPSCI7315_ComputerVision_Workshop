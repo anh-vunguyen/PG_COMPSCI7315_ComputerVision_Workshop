{
  "cells": [
    {
      "cell_type": "markdown",
      "metadata": {
        "id": "YJz7rin9hk2-"
      },
      "source": [
        "This Notebook is a modified version of the pytorch tutorial from https://pytorch.org/tutorials/beginner/blitz/cifar10_tutorial.html. It has been modified form the original to implements, train and test a multi-layer perceptron (MLP) instead of a CNN.\n",
        "\n"
      ]
    },
    {
      "cell_type": "markdown",
      "source": [
        "# Why we use Pytorch in this course?"
      ],
      "metadata": {
        "id": "7YClO7gxOUyp"
      }
    },
    {
      "cell_type": "markdown",
      "source": [
        "There was a statement \"Pytorch for the academia, TensorFlow for the industry.\" BUT Google is moving internally to their new and framework Google JAX due to unfixable design flaws of TensorFlow. Their recent works (e.g. VisionTransformer) do not use TensorFlow anymore. This is a bad sign for the future of TensorFlow.\n",
        "Source:  \n",
        "https://twitter.com/ylecun/status/1538419932475555840?lang=en  \n",
        "https://www.businessinsider.com/facebook-pytorch-beat-google-tensorflow-jax-meta-ai-2022-6  \n",
        "\n",
        "\n",
        "\n",
        "Furthermore, most of recent SOTA models are implemented with Pytorch.\n",
        "The Assignment 3 is a great opportunity to learn and play with Pytorch.\n",
        "\n",
        "If you know how to use Pytorch in advance, that's great!\n",
        "If you know TensorFlow in advance, you have a solid starting point to learn Pytorch quickly and will have the ability to migrate legacy TensorFlow models to Pytorch (which will be highly demanded in the job market if TensorFlow is completely replaced by Google).\n"
      ],
      "metadata": {
        "id": "NFArTR5rOZPw"
      }
    },
    {
      "cell_type": "markdown",
      "metadata": {
        "id": "-iuNQgg7OD5Q"
      },
      "source": [
        "# Useful Resources"
      ]
    },
    {
      "cell_type": "markdown",
      "metadata": {
        "id": "zVLVL_hTOD5Q"
      },
      "source": [
        "**Books:**  \n",
        "📕 Dive into Deep Learning (https://d2l.ai/index.html) (Practical Book)  \n",
        "📗 Deep Learning by Ian Goodfellow, Yoshua Bengio, Aaron Courville (https://www.deeplearningbook.org/) (Theoritical Book)  \n",
        "📘 Understanding Deep Learning by Simon J.D. Prince (https://udlbook.github.io/udlbook/) (Theoritical Book, the explanation/discussion in this book is crystal-clear)  \n",
        "📙 Deep Learning with PyTorch by Eli Stevens, Luca Antiga, and Thomas Viehmann (Practical+Theoritical Book)  \n",
        "📕 Machine Learning Yearning Book by Andrew Ng (https://info.deeplearning.ai/machine-learning-yearning-book) (Give you at least 1 year of experience in Building Deep Learning models instantly)\n",
        "📗 How to avoid machine learning pitfalls: a guide for academic researchers by\n",
        "Michael A. Lones (https://arxiv.org/abs/2108.02497) (Extremely helpful)  \n",
        "\n",
        "**Github repo**:  \n",
        "⚙️ https://github.com/ChristosChristofidis/awesome-deep-learning  \n",
        "⚙️ https://github.com/ashishpatel26/500-AI-Machine-learning-Deep-learning-Computer-vision-NLP-Projects-with-code\n",
        "\n",
        "**Interview Preparation for Machine Learning Engineer/Data Scientist**  \n",
        "💵 Machine Learning Interviews by Chip Huyen (https://huyenchip.com/ml-interviews-book/) (Super helpfulfor you to explore the hiring pipeline from FAANG-like companies to Silicon Valley start-ups, many good advices & insights from experts and well-known engineers)  \n",
        "💵 Deep Learning Interviews: Hundreds of fully solved job interview questions from a wide range of key topics in AI (https://arxiv.org/abs/2201.00650), by Shlomo Kashani, Amir Ivry  \n",
        "💵 Cracking the Coding Interview by Gayle Laakmann McDowell (Crucial for preparing coding interviews)  "
      ]
    },
    {
      "cell_type": "markdown",
      "metadata": {
        "id": "PCddjHfN7W1k"
      },
      "source": [
        "\n",
        "# Training a Classifier\n",
        "\n",
        "This is it. You have seen how to define neural networks, compute loss and make\n",
        "updates to the weights of the network.\n",
        "\n",
        "Now you might be thinking,\n",
        "\n",
        "## What about data?\n",
        "\n",
        "Generally, when you have to deal with image, text, audio or video data,\n",
        "you can use standard python packages that load data into a numpy array.\n",
        "Then you can convert this array into a ``torch.*Tensor``.\n",
        "\n",
        "-  For <font color='red'>images</font>, packages such as Pillow, OpenCV are useful\n",
        "-  For <font color='blue'>audio</font>, packages such as scipy and librosa\n",
        "-  For <font color='green'>text</font>, either raw Python or Cython based loading, or NLTK and\n",
        "   SpaCy are useful\n",
        "\n",
        "Specifically for <font color='red'>**vision**</font>, we have created a package called\n",
        "``torchvision``, that has data loaders for common datasets such as\n",
        "ImageNet, CIFAR10, MNIST, etc. and data transformers for images, viz.,\n",
        "``torchvision.datasets`` and ``torch.utils.data.DataLoader``.\n",
        "\n",
        "This provides a huge convenience and avoids writing boilerplate code.\n",
        "\n",
        "For this tutorial, we will use the `CIFAR10 dataset`.\n",
        "It has the classes: `‘airplane’`, `‘automobile’`, `‘bird’`, `‘cat’`, `‘deer’`,\n",
        "`‘dog’`, `‘frog’`, `‘horse’`, `‘ship’`, `‘truck’`. The images in CIFAR-10 are of\n",
        "size `3x32x32`, i.e. 3-channel color images of 32x32 pixels in size.\n",
        "\n",
        ".. figure:: /_static/img/cifar10.png\n",
        "   :alt: cifar10\n",
        "\n",
        "   cifar10\n",
        "\n",
        "\n",
        "## Training an image classifier\n",
        "\n",
        "We will do the following steps in order:\n",
        "\n",
        "1. Load and normalize the CIFAR10 training and test datasets using\n",
        "   ``torchvision``\n",
        "2. Define a Convolutional Neural Network\n",
        "3. Define a loss function\n",
        "4. Train the network on the training data\n",
        "5. Test the network on the test data\n",
        "\n",
        "\n"
      ]
    },
    {
      "cell_type": "markdown",
      "source": [
        "# 0. Google Colab Environment\n",
        "Please select `Runtime` -> `Change Runtime Type`  \n",
        "You have different options for `Hardware Accelator` -> Choose `GPU` (Click OK if restart is needed)\n"
      ],
      "metadata": {
        "id": "g8XUEDpKoNLC"
      }
    },
    {
      "cell_type": "markdown",
      "source": [
        "### 1. Load and normalize CIFAR10\n",
        "\n",
        "Using ``torchvision``, it’s extremely easy to load CIFAR10."
      ],
      "metadata": {
        "id": "HL8anQj1oKVj"
      }
    },
    {
      "cell_type": "code",
      "source": [
        "# For tips on running notebooks in Google Colab, see\n",
        "# https://pytorch.org/tutorials/beginner/colab\n",
        "%matplotlib inline"
      ],
      "metadata": {
        "id": "KblGDytdoF0x"
      },
      "execution_count": 1,
      "outputs": []
    },
    {
      "cell_type": "code",
      "execution_count": 2,
      "metadata": {
        "id": "l1hTDK407W1l"
      },
      "outputs": [],
      "source": [
        "import torch\n",
        "import torchvision\n",
        "import torchvision.transforms as transforms"
      ]
    },
    {
      "cell_type": "markdown",
      "metadata": {
        "id": "Z0y3_yvP7W1m"
      },
      "source": [
        "The output of torchvision datasets are PILImage images of range [0, 1].\n",
        "We transform them to Tensors of normalized range [-1, 1].\n",
        "\n"
      ]
    },
    {
      "cell_type": "markdown",
      "metadata": {
        "id": "fjAcdXCo7W1m"
      },
      "source": [
        "<div class=\"alert alert-info\"><h4>Note</h4><p>If running on Windows and you get a BrokenPipeError, try setting\n",
        "    the num_worker of torch.utils.data.DataLoader() to 0.</p></div>\n",
        "\n"
      ]
    },
    {
      "cell_type": "code",
      "execution_count": 3,
      "metadata": {
        "id": "8LeeaIv47W1m",
        "outputId": "97600827-beda-4615-98b1-cf4424f781c6",
        "colab": {
          "base_uri": "https://localhost:8080/"
        }
      },
      "outputs": [
        {
          "output_type": "stream",
          "name": "stdout",
          "text": [
            "Downloading https://www.cs.toronto.edu/~kriz/cifar-10-python.tar.gz to ./data/cifar-10-python.tar.gz\n"
          ]
        },
        {
          "output_type": "stream",
          "name": "stderr",
          "text": [
            "100%|██████████| 170498071/170498071 [00:14<00:00, 12159217.32it/s]\n"
          ]
        },
        {
          "output_type": "stream",
          "name": "stdout",
          "text": [
            "Extracting ./data/cifar-10-python.tar.gz to ./data\n",
            "Files already downloaded and verified\n"
          ]
        }
      ],
      "source": [
        "transform = transforms.Compose(\n",
        "    [transforms.ToTensor(), # Convert img to Tensor\n",
        "     transforms.Normalize((0.5, 0.5, 0.5), (0.5, 0.5, 0.5))]) # (mean_red, mean_green, mean_blue), (stdev_red, stdev_green, stdev_blue)\n",
        "\n",
        "batch_size = 4 # The number of images is used at one step.\n",
        "\n",
        "trainset = torchvision.datasets.CIFAR10(root='./data', train=True,\n",
        "                                        download=True, transform=transform)\n",
        "\n",
        "trainloader = torch.utils.data.DataLoader(trainset, batch_size=batch_size,\n",
        "                                          shuffle=True, num_workers=2)\n",
        "\n",
        "testset = torchvision.datasets.CIFAR10(root='./data', train=False,\n",
        "                                       download=True, transform=transform)\n",
        "testloader = torch.utils.data.DataLoader(testset, batch_size=batch_size,\n",
        "                                         shuffle=False, num_workers=2)\n",
        "\n",
        "classes = ('plane', 'car', 'bird', 'cat',\n",
        "           'deer', 'dog', 'frog', 'horse', 'ship', 'truck')"
      ]
    },
    {
      "cell_type": "markdown",
      "metadata": {
        "id": "rSqPNlqb7W1n"
      },
      "source": [
        "Let us show some of the training images, for fun.\n",
        "\n"
      ]
    },
    {
      "cell_type": "code",
      "execution_count": 4,
      "metadata": {
        "id": "qCUasJmA7W1n",
        "outputId": "9b5ce9d4-bb52-4096-f60e-b007e6cbe85a",
        "colab": {
          "base_uri": "https://localhost:8080/",
          "height": 282
        }
      },
      "outputs": [
        {
          "output_type": "display_data",
          "data": {
            "text/plain": [
              "<Figure size 1000x1000 with 1 Axes>"
            ],
            "image/png": "[encoded data removed]"
          },
          "metadata": {}
        },
        {
          "output_type": "stream",
          "name": "stdout",
          "text": [
            "frog  ship  ship  bird \n"
          ]
        }
      ],
      "source": [
        "import matplotlib.pyplot as plt\n",
        "import numpy as np\n",
        "\n",
        "# functions to show an image\n",
        "\n",
        "\n",
        "def imshow(img, figsize=(10, 10)):\n",
        "    img = img / 2 + 0.5     # unnormalize\n",
        "    npimg = img.numpy()\n",
        "    plt.figure(figsize=figsize)\n",
        "    plt.imshow(np.transpose(npimg, (1, 2, 0)))\n",
        "    plt.show()\n",
        "\n",
        "\n",
        "# get some random training images\n",
        "dataiter = iter(trainloader)\n",
        "images, labels = next(dataiter)\n",
        "\n",
        "# show images\n",
        "imshow(torchvision.utils.make_grid(images))\n",
        "# print labels\n",
        "print(' '.join(f'{classes[labels[j]]:5s}' for j in range(batch_size)))"
      ]
    },
    {
      "cell_type": "markdown",
      "metadata": {
        "id": "qz7kpEi87W1n"
      },
      "source": [
        "### 2. Define a Multilayer Perceptron Neural Network\n",
        "Copy the neural network from the Neural Networks section before and modify it to\n",
        "take 3-channel images (instead of 1-channel images as it was defined).\n",
        "\n"
      ]
    },
    {
      "cell_type": "code",
      "source": [
        "# Select the device for training models\n",
        "device = torch.device('cuda:0' if torch.cuda.is_available() else 'cpu')  # \"cuda\" for GPU or another option \"cpu\""
      ],
      "metadata": {
        "id": "Og4Yipz3ngEY"
      },
      "execution_count": 19,
      "outputs": []
    },
    {
      "cell_type": "code",
      "execution_count": 6,
      "metadata": {
        "id": "l4foIMX17W1n",
        "colab": {
          "base_uri": "https://localhost:8080/"
        },
        "outputId": "785cb249-42de-4507-e9b5-61b8929d52a2"
      },
      "outputs": [
        {
          "output_type": "execute_result",
          "data": {
            "text/plain": [
              "Net(\n",
              "  (flatten): Flatten(start_dim=1, end_dim=-1)\n",
              "  (linear_relu_stack): Sequential(\n",
              "    (0): Linear(in_features=3072, out_features=512, bias=True)\n",
              "    (1): ReLU()\n",
              "    (2): Linear(in_features=512, out_features=512, bias=True)\n",
              "    (3): ReLU()\n",
              "    (4): Linear(in_features=512, out_features=10, bias=True)\n",
              "  )\n",
              ")"
            ]
          },
          "metadata": {},
          "execution_count": 6
        }
      ],
      "source": [
        "import torch.nn as nn\n",
        "import torch.nn.functional as F\n",
        "\n",
        "\n",
        "class Net(nn.Module):\n",
        "    def __init__(self):\n",
        "        super().__init__()\n",
        "        self.flatten = nn.Flatten()\n",
        "        self.linear_relu_stack = nn.Sequential(\n",
        "              nn.Linear(32*32*3, 512),\n",
        "              nn.ReLU(),\n",
        "              nn.Linear(512, 512),\n",
        "              nn.ReLU(),\n",
        "              nn.Linear(512, 10)\n",
        "        )\n",
        "\n",
        "    def forward(self, x):\n",
        "        x = self.flatten(x)\n",
        "        x = self.linear_relu_stack(x)\n",
        "        return x\n",
        "\n",
        "\n",
        "net = Net()\n",
        "# Move the model to the selected device\n",
        "net.to(device)"
      ]
    },
    {
      "cell_type": "code",
      "execution_count": 7,
      "metadata": {
        "id": "4R-gqFy0OD5T",
        "outputId": "710c920a-9fdf-478a-9e6f-a1f968e02f01",
        "colab": {
          "base_uri": "https://localhost:8080/"
        }
      },
      "outputs": [
        {
          "output_type": "execute_result",
          "data": {
            "text/plain": [
              "Net(\n",
              "  (flatten): Flatten(start_dim=1, end_dim=-1)\n",
              "  (linear_relu_stack): Sequential(\n",
              "    (0): Linear(in_features=3072, out_features=512, bias=True)\n",
              "    (1): ReLU()\n",
              "    (2): Linear(in_features=512, out_features=512, bias=True)\n",
              "    (3): ReLU()\n",
              "    (4): Linear(in_features=512, out_features=10, bias=True)\n",
              "  )\n",
              ")"
            ]
          },
          "metadata": {},
          "execution_count": 7
        }
      ],
      "source": [
        "net"
      ]
    },
    {
      "cell_type": "markdown",
      "metadata": {
        "id": "ESjXHFWA7W1n"
      },
      "source": [
        "### 3. Define a Loss function and optimizer\n",
        "Let's use a Classification Cross-Entropy loss and SGD with momentum.\n",
        "\n",
        "Information about Classification Cross-Entropy loss\n",
        "https://wandb.ai/sauravmaheshkar/cross-entropy/reports/What-Is-Cross-Entropy-Loss-A-Tutorial-With-Code--VmlldzoxMDA5NTMx"
      ]
    },
    {
      "cell_type": "code",
      "execution_count": 9,
      "metadata": {
        "id": "9hzOTBlW7W1n"
      },
      "outputs": [],
      "source": [
        "import torch.optim as optim\n",
        "\n",
        "criterion = nn.CrossEntropyLoss()\n",
        "optimizer = optim.SGD(net.parameters(), lr=0.001, momentum=0.9)\n",
        "n_epochs = 10 # Number of epochs"
      ]
    },
    {
      "cell_type": "markdown",
      "metadata": {
        "id": "GU7YxYSM7W1o"
      },
      "source": [
        "### 4. Train the network\n",
        "\n",
        "This is when things start to get interesting.\n",
        "We simply have to loop over our data iterator, and feed the inputs to the\n",
        "network and optimize.\n",
        "\n"
      ]
    },
    {
      "cell_type": "code",
      "execution_count": 12,
      "metadata": {
        "id": "bv9EekFo7W1o",
        "outputId": "0f19a30e-e0fe-4ec9-a8c0-ede2b0e913bf",
        "colab": {
          "base_uri": "https://localhost:8080/"
        }
      },
      "outputs": [
        {
          "output_type": "stream",
          "name": "stdout",
          "text": [
            "-----EPOCH 1-----\n",
            "[1,  2000] loss: 1.911\n",
            "[1,  4000] loss: 1.705\n",
            "[1,  6000] loss: 1.624\n",
            "[1,  8000] loss: 1.593\n",
            "[1, 10000] loss: 1.553\n",
            "[1, 12000] loss: 1.520\n",
            "-----EPOCH 2-----\n",
            "[2,  2000] loss: 1.425\n",
            "[2,  4000] loss: 1.421\n",
            "[2,  6000] loss: 1.424\n",
            "[2,  8000] loss: 1.393\n",
            "[2, 10000] loss: 1.401\n",
            "[2, 12000] loss: 1.403\n",
            "-----EPOCH 3-----\n",
            "[3,  2000] loss: 1.297\n",
            "[3,  4000] loss: 1.289\n",
            "[3,  6000] loss: 1.283\n",
            "[3,  8000] loss: 1.282\n",
            "[3, 10000] loss: 1.305\n",
            "[3, 12000] loss: 1.276\n",
            "-----EPOCH 4-----\n",
            "[4,  2000] loss: 1.191\n",
            "[4,  4000] loss: 1.186\n",
            "[4,  6000] loss: 1.200\n",
            "[4,  8000] loss: 1.213\n",
            "[4, 10000] loss: 1.196\n",
            "[4, 12000] loss: 1.206\n",
            "-----EPOCH 5-----\n",
            "[5,  2000] loss: 1.067\n",
            "[5,  4000] loss: 1.090\n",
            "[5,  6000] loss: 1.134\n",
            "[5,  8000] loss: 1.131\n",
            "[5, 10000] loss: 1.113\n",
            "[5, 12000] loss: 1.130\n",
            "-----EPOCH 6-----\n",
            "[6,  2000] loss: 0.968\n",
            "[6,  4000] loss: 1.017\n",
            "[6,  6000] loss: 1.056\n",
            "[6,  8000] loss: 1.017\n",
            "[6, 10000] loss: 1.062\n",
            "[6, 12000] loss: 1.050\n",
            "-----EPOCH 7-----\n",
            "[7,  2000] loss: 0.906\n",
            "[7,  4000] loss: 0.948\n",
            "[7,  6000] loss: 0.962\n",
            "[7,  8000] loss: 0.972\n",
            "[7, 10000] loss: 0.964\n",
            "[7, 12000] loss: 0.957\n",
            "-----EPOCH 8-----\n",
            "[8,  2000] loss: 0.814\n",
            "[8,  4000] loss: 0.845\n",
            "[8,  6000] loss: 0.878\n",
            "[8,  8000] loss: 0.896\n",
            "[8, 10000] loss: 0.895\n",
            "[8, 12000] loss: 0.926\n",
            "-----EPOCH 9-----\n",
            "[9,  2000] loss: 0.743\n",
            "[9,  4000] loss: 0.766\n",
            "[9,  6000] loss: 0.793\n",
            "[9,  8000] loss: 0.824\n",
            "[9, 10000] loss: 0.838\n",
            "[9, 12000] loss: 0.861\n",
            "-----EPOCH 10-----\n",
            "[10,  2000] loss: 0.661\n",
            "[10,  4000] loss: 0.697\n",
            "[10,  6000] loss: 0.723\n",
            "[10,  8000] loss: 0.744\n",
            "[10, 10000] loss: 0.790\n",
            "[10, 12000] loss: 0.795\n",
            "Finished Training\n"
          ]
        }
      ],
      "source": [
        "for epoch in range(n_epochs):  # loop over the dataset multiple times\n",
        "    print(f\"-----EPOCH {epoch+1}-----\")\n",
        "    running_loss = 0.0\n",
        "    for i, data in enumerate(trainloader, 0):\n",
        "        # get the inputs; data is a list of [inputs, labels]\n",
        "        inputs, labels = data\n",
        "        inputs = inputs.to(device)\n",
        "        labels = labels.to(device)\n",
        "\n",
        "\n",
        "        # zero the parameter gradients\n",
        "        optimizer.zero_grad()\n",
        "\n",
        "        # forward + backward + optimize\n",
        "        outputs = net(inputs)\n",
        "        loss = criterion(outputs, labels)\n",
        "        loss.requires_grad_()\n",
        "        loss.backward()\n",
        "        optimizer.step()\n",
        "\n",
        "        # print statistics\n",
        "        running_loss += loss.item()\n",
        "        if i % 2000 == 1999:    # print every 2000 mini-batches\n",
        "            print(f'[{epoch + 1}, {i + 1:5d}] loss: {running_loss / 2000:.3f}')\n",
        "            running_loss = 0.0\n",
        "\n",
        "print('Finished Training')"
      ]
    },
    {
      "cell_type": "markdown",
      "metadata": {
        "id": "3EeOE0o-7W1o"
      },
      "source": [
        "Let's quickly save our trained model:\n",
        "\n"
      ]
    },
    {
      "cell_type": "code",
      "execution_count": 13,
      "metadata": {
        "id": "N_FWSQPa7W1o"
      },
      "outputs": [],
      "source": [
        "PATH = './cifar_net.pth'\n",
        "torch.save(net.state_dict(), PATH)"
      ]
    },
    {
      "cell_type": "markdown",
      "metadata": {
        "id": "J01tddXV7W1o"
      },
      "source": [
        "See [here](https://pytorch.org/docs/stable/notes/serialization.html)\n",
        "for more details on saving PyTorch models.\n",
        "\n",
        "### 5. Test the network on the test data\n",
        "\n",
        "We have trained the network for 2 passes over the training dataset.\n",
        "But we need to check if the network has learnt anything at all.\n",
        "\n",
        "We will check this by predicting the class label that the neural network\n",
        "outputs, and checking it against the ground-truth. If the prediction is\n",
        "correct, we add the sample to the list of correct predictions.\n",
        "\n",
        "Okay, first step. Let us display an image from the test set to get familiar.\n",
        "\n"
      ]
    },
    {
      "cell_type": "code",
      "execution_count": 14,
      "metadata": {
        "id": "tL0QEWs17W1o",
        "outputId": "4f0f5528-af20-4b3f-b35f-a699d31d9f9f",
        "colab": {
          "base_uri": "https://localhost:8080/",
          "height": 282
        }
      },
      "outputs": [
        {
          "output_type": "display_data",
          "data": {
            "text/plain": [
              "<Figure size 1000x1000 with 1 Axes>"
            ],
            "image/png": "[encoded data removed]"
          },
          "metadata": {}
        },
        {
          "output_type": "stream",
          "name": "stdout",
          "text": [
            "GroundTruth:  cat   ship  ship  plane\n"
          ]
        }
      ],
      "source": [
        "dataiter = iter(testloader)\n",
        "images, labels = next(dataiter)\n",
        "\n",
        "# print images\n",
        "imshow(torchvision.utils.make_grid(images))\n",
        "print('GroundTruth: ', ' '.join(f'{classes[labels[j]]:5s}' for j in range(4)))"
      ]
    },
    {
      "cell_type": "markdown",
      "metadata": {
        "id": "oWf9iN9l7W1o"
      },
      "source": [
        "Next, let's load back in our saved model (note: saving and re-loading the model\n",
        "wasn't necessary here, we only did it to illustrate how to do so):\n",
        "\n"
      ]
    },
    {
      "cell_type": "code",
      "execution_count": 15,
      "metadata": {
        "id": "HIh51Sc57W1p",
        "outputId": "ae37caaf-f197-4355-f06a-56fe87dc461f",
        "colab": {
          "base_uri": "https://localhost:8080/"
        }
      },
      "outputs": [
        {
          "output_type": "execute_result",
          "data": {
            "text/plain": [
              "<All keys matched successfully>"
            ]
          },
          "metadata": {},
          "execution_count": 15
        }
      ],
      "source": [
        "net = Net()\n",
        "net.load_state_dict(torch.load(PATH))"
      ]
    },
    {
      "cell_type": "markdown",
      "metadata": {
        "id": "LccOhDaD7W1p"
      },
      "source": [
        "Okay, now let us see what the neural network thinks these examples above are:\n",
        "\n"
      ]
    },
    {
      "cell_type": "code",
      "execution_count": 16,
      "metadata": {
        "id": "Rboychzt7W1p"
      },
      "outputs": [],
      "source": [
        "outputs = net(images)"
      ]
    },
    {
      "cell_type": "markdown",
      "metadata": {
        "id": "P1SGN_mc7W1p"
      },
      "source": [
        "The outputs are energies for the 10 classes.\n",
        "The higher the energy for a class, the more the network\n",
        "thinks that the image is of the particular class.\n",
        "So, let's get the index of the highest energy:\n",
        "\n"
      ]
    },
    {
      "cell_type": "code",
      "execution_count": 17,
      "metadata": {
        "id": "i7Og_zw27W1p",
        "outputId": "8a8ac538-de2b-4756-cdd6-cc45a33a2219",
        "colab": {
          "base_uri": "https://localhost:8080/"
        }
      },
      "outputs": [
        {
          "output_type": "stream",
          "name": "stdout",
          "text": [
            "Predicted:  cat   ship  ship  plane\n"
          ]
        }
      ],
      "source": [
        "_, predicted = torch.max(outputs, 1)\n",
        "\n",
        "print('Predicted: ', ' '.join(f'{classes[predicted[j]]:5s}'\n",
        "                              for j in range(4)))"
      ]
    },
    {
      "cell_type": "markdown",
      "metadata": {
        "id": "3sBFrhA_7W1p"
      },
      "source": [
        "The results seem pretty good.\n",
        "\n",
        "Let us look at how the network performs on the whole dataset.\n",
        "\n"
      ]
    },
    {
      "cell_type": "code",
      "execution_count": 18,
      "metadata": {
        "id": "YEFTKpMq7W1p",
        "outputId": "20670f51-edc2-4c83-d020-0ac2f377996d",
        "colab": {
          "base_uri": "https://localhost:8080/"
        }
      },
      "outputs": [
        {
          "output_type": "stream",
          "name": "stdout",
          "text": [
            "Accuracy of the network on the 10000 test images: 55 %\n"
          ]
        }
      ],
      "source": [
        "correct = 0\n",
        "total = 0\n",
        "# since we're not training, we don't need to calculate the gradients for our outputs\n",
        "with torch.no_grad():\n",
        "    for data in testloader:\n",
        "        images, labels = data\n",
        "        # calculate outputs by running images through the network\n",
        "        outputs = net(images)\n",
        "        # the class with the highest energy is what we choose as prediction\n",
        "        _, predicted = torch.max(outputs.data, 1)\n",
        "        total += labels.size(0)\n",
        "        correct += (predicted == labels).sum().item()\n",
        "\n",
        "print(f'Accuracy of the network on the 10000 test images: {100 * correct // total} %')"
      ]
    },
    {
      "cell_type": "markdown",
      "metadata": {
        "id": "vY6VrSle7W1p"
      },
      "source": [
        "That looks way better than chance, which is 10% accuracy (randomly picking\n",
        "a class out of 10 classes).\n",
        "Seems like the network learnt something.\n",
        "\n",
        "Hmmm, what are the classes that performed well, and the classes that did\n",
        "not perform well:\n",
        "\n"
      ]
    },
    {
      "cell_type": "code",
      "execution_count": null,
      "metadata": {
        "id": "icW3TFzh7W1q",
        "outputId": "720484fd-2b75-40c2-d875-5c72e616e961"
      },
      "outputs": [
        {
          "name": "stdout",
          "output_type": "stream",
          "text": [
            "Accuracy for class: plane is 56.6 %\n",
            "Accuracy for class: car   is 57.4 %\n",
            "Accuracy for class: bird  is 42.1 %\n",
            "Accuracy for class: cat   is 40.2 %\n",
            "Accuracy for class: deer  is 37.0 %\n",
            "Accuracy for class: dog   is 35.6 %\n",
            "Accuracy for class: frog  is 70.0 %\n",
            "Accuracy for class: horse is 66.8 %\n",
            "Accuracy for class: ship  is 74.3 %\n",
            "Accuracy for class: truck is 56.0 %\n"
          ]
        }
      ],
      "source": [
        "# prepare to count predictions for each class\n",
        "correct_pred = {classname: 0 for classname in classes}\n",
        "total_pred = {classname: 0 for classname in classes}\n",
        "\n",
        "# again no gradients needed\n",
        "with torch.no_grad():\n",
        "    for data in testloader:\n",
        "        images, labels = data\n",
        "        outputs = net(images)\n",
        "        _, predictions = torch.max(outputs, 1)\n",
        "        # collect the correct predictions for each class\n",
        "        for label, prediction in zip(labels, predictions):\n",
        "            if label == prediction:\n",
        "                correct_pred[classes[label]] += 1\n",
        "            total_pred[classes[label]] += 1\n",
        "\n",
        "\n",
        "# print accuracy for each class\n",
        "for classname, correct_count in correct_pred.items():\n",
        "    accuracy = 100 * float(correct_count) / total_pred[classname]\n",
        "    print(f'Accuracy for class: {classname:5s} is {accuracy:.1f} %')"
      ]
    },
    {
      "cell_type": "code",
      "source": [],
      "metadata": {
        "id": "nY3iuNNJsFAs"
      },
      "execution_count": null,
      "outputs": []
    },
    {
      "cell_type": "markdown",
      "metadata": {
        "id": "O_2qyJma7W1q"
      },
      "source": [
        "Okay, so what next?\n",
        "\n",
        "How do we run these neural networks on the GPU?\n",
        "\n",
        "## Training on GPU\n",
        "Just like how you transfer a Tensor onto the GPU, you transfer the neural\n",
        "net onto the GPU.\n",
        "\n",
        "Let's first define our device as the first visible cuda device if we have\n",
        "CUDA available:\n",
        "\n"
      ]
    },
    {
      "cell_type": "code",
      "execution_count": null,
      "metadata": {
        "id": "9LXxsGxQ7W1q"
      },
      "outputs": [],
      "source": [
        "device = torch.device('cuda:0' if torch.cuda.is_available() else 'cpu')\n",
        "\n",
        "# Assuming that we are on a CUDA machine, this should print a CUDA device:\n",
        "\n",
        "print(device)"
      ]
    },
    {
      "cell_type": "markdown",
      "metadata": {
        "id": "8M1g8PCu7W1q"
      },
      "source": [
        "The rest of this section assumes that ``device`` is a CUDA device.\n",
        "\n",
        "Then these methods will recursively go over all modules and convert their\n",
        "parameters and buffers to CUDA tensors:\n",
        "\n",
        ".. code:: python\n",
        "\n",
        "    net.to(device)\n",
        "\n",
        "\n",
        "Remember that you will have to send the inputs and targets at every step\n",
        "to the GPU too:\n",
        "\n",
        ".. code:: python\n",
        "\n",
        "        inputs, labels = data[0].to(device), data[1].to(device)\n",
        "\n",
        "Why don't I notice MASSIVE speedup compared to CPU? Because your network\n",
        "is really small.\n",
        "\n",
        "**Exercise:** Try increasing the width of your network (argument 2 of\n",
        "the first ``nn.Conv2d``, and argument 1 of the second ``nn.Conv2d`` –\n",
        "they need to be the same number), see what kind of speedup you get.\n",
        "\n",
        "**Goals achieved**:\n",
        "\n",
        "- Understanding PyTorch's Tensor library and neural networks at a high level.\n",
        "- Train a small neural network to classify images\n",
        "\n",
        "## Training on multiple GPUs\n",
        "If you want to see even more MASSIVE speedup using all of your GPUs,\n",
        "please check out :doc:`data_parallel_tutorial`.\n",
        "\n",
        "## Where do I go next?\n",
        "- `Deploy Deep Learning-based web app with Streamlit and Heroku>`  \n",
        "https://www.youtube.com/playlist?list=PLtqF5YXg7GLmCvTswG32NqQypOuYkPRUE\n",
        "\n",
        "-  `Train neural nets to play video games </intermediate/reinforcement_q_learning>`\n",
        "-  `Train a state-of-the-art ResNet network on imagenet`_\n",
        "-  `Train a face generator using Generative Adversarial Networks`_\n",
        "-  `Train a word-level language model using Recurrent LSTM networks`_\n",
        "-  `More examples`_\n",
        "-  `More tutorials`_\n",
        "-  `Discuss PyTorch on the Forums`_\n",
        "-  `Chat with other users on Slack`_\n",
        "\n",
        "\n"
      ]
    },
    {
      "cell_type": "code",
      "execution_count": null,
      "metadata": {
        "id": "1hs9Djpd7W1q"
      },
      "outputs": [],
      "source": [
        "del dataiter"
      ]
    }
  ],
  "metadata": {
    "colab": {
      "provenance": [],
      "gpuType": "A100"
    },
    "kernelspec": {
      "display_name": "Python 3",
      "name": "python3"
    },
    "language_info": {
      "codemirror_mode": {
        "name": "ipython",
        "version": 3
      },
      "file_extension": ".py",
      "mimetype": "text/x-python",
      "name": "python",
      "nbconvert_exporter": "python",
      "pygments_lexer": "ipython3",
      "version": "3.9.13"
    },
    "accelerator": "GPU"
  },
  "nbformat": 4,
  "nbformat_minor": 0
}